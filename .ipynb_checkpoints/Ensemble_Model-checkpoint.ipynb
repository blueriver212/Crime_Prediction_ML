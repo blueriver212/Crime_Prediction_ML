{
 "cells": [
  {
   "cell_type": "markdown",
   "metadata": {
    "collapsed": true,
    "pycharm": {
     "name": "#%% md\n"
    }
   },
   "source": [
    "# Ensemble Learning\n",
    "https://www.geeksforgeeks.org/stacking-in-machine-learning-2/\n",
    "https://machinelearningmastery.com/stacking-ensemble-machine-learning-with-python/\n",
    "https://www.kaggle.com/arthurtok/introduction-to-ensembling-stacking-in-python"
   ]
  },
  {
   "cell_type": "markdown",
   "metadata": {},
   "source": [
    "**Load files**"
   ]
  },
  {
   "cell_type": "code",
   "execution_count": 1,
   "metadata": {
    "pycharm": {
     "name": "#%%\n"
    }
   },
   "outputs": [
    {
     "name": "stdout",
     "output_type": "stream",
     "text": [
      "(1549, 100)\n",
      "(665, 100)\n"
     ]
    }
   ],
   "source": [
    "%run Preprocessing.ipynb"
   ]
  },
  {
   "cell_type": "code",
   "execution_count": 3,
   "metadata": {
    "pycharm": {
     "name": "#%%\n"
    }
   },
   "outputs": [],
   "source": [
    "# import packages\n",
    "from mlxtend.classifier import StackingClassifier\n",
    "from sklearn.linear_model import LogisticRegression\n",
    "from sklearn.metrics import accuracy_score\n",
    "from sklearn.tree import DecisionTreeClassifier\n",
    "from sklearn.svm import SVC\n",
    "from sklearn.naive_bayes import BernoulliNB\n",
    "from keras.wrappers.scikit_learn import KerasClassifier\n",
    "from keras.constraints import maxnorm\n",
    "from keras.layers import Dropout, Dense\n",
    "from keras.models import Sequential\n",
    "from sklearn.model_selection import KFold\n",
    "from sklearn.metrics import confusion_matrix\n",
    "import seaborn as sns\n",
    "from sklearn.model_selection import cross_val_score"
   ]
  },
  {
   "cell_type": "code",
   "execution_count": 4,
   "metadata": {
    "pycharm": {
     "name": "#%%\n"
    }
   },
   "outputs": [],
   "source": [
    "# Load train and test sets from Preprocessing file\n",
    "x_train = x_train\n",
    "y_train = y_train\n",
    "x_test = x_test\n",
    "y_test = y_test"
   ]
  },
  {
   "cell_type": "code",
   "execution_count": 5,
   "metadata": {},
   "outputs": [],
   "source": [
    "# Set classes based on classification complexity decided in pre-processing\n",
    "classes = {'LowCrime': 0, 'HighCrime': 1}"
   ]
  },
  {
   "cell_type": "code",
   "execution_count": 6,
   "metadata": {},
   "outputs": [],
   "source": [
    "# Load function for plotting confusion matrix\n",
    "def plot_confusion_matrix(train_pred, train, dom):\n",
    "    cf = confusion_matrix(train_pred,train)\n",
    "    sns.heatmap(cf,annot=True,yticklabels=classes,xticklabels=classes,cmap='Blues', fmt='g')\n",
    "    plt.title(f'{dom} Confusion matrix')\n",
    "    plt.tight_layout()\n",
    "    plt.show()"
   ]
  },
  {
   "cell_type": "markdown",
   "metadata": {},
   "source": [
    "**Paste Models from Files**"
   ]
  },
  {
   "cell_type": "code",
   "execution_count": 7,
   "metadata": {
    "pycharm": {
     "name": "#%%\n"
    }
   },
   "outputs": [],
   "source": [
    "# Function for neural networks\n",
    "\n",
    "def create_model(optimizer='Adagrad', init='glorot_uniform', neurons=12, dropout_rate=0.2):\n",
    "    model = Sequential()\n",
    "    model.add(Dense(neurons, input_dim=100, kernel_initializer='uniform', activation='linear', kernel_constraint=maxnorm(4)))\n",
    "    model.add(Dropout(dropout_rate))\n",
    "    model.add(Dense(1, kernel_initializer=init, activation='sigmoid')) # kernel_initializer=init\n",
    "    model.compile(loss='binary_crossentropy', optimizer=optimizer, metrics=['accuracy'])\n",
    "    return model"
   ]
  },
  {
   "cell_type": "code",
   "execution_count": 30,
   "metadata": {
    "pycharm": {
     "name": "#%%\n"
    }
   },
   "outputs": [],
   "source": [
    "# Load models from files, but for now...\n",
    "dt_model = DecisionTreeClassifier(criterion='gini', max_depth=4, min_samples_split = 0.1, max_features=100, ccp_alpha=0.01, splitter = 'best')\n",
    "svm_model = SVC(C=1, gamma=0.1, probability=True)\n",
    "b_model = BernoulliNB(alpha=1, binarize=None)\n",
    "nn_model = KerasClassifier(build_fn=create_model, epochs=50, batch_size=5, verbose=0)\n",
    "nn_model._estimator_type = \"classifier\""
   ]
  },
  {
   "cell_type": "markdown",
   "metadata": {},
   "source": [
    "**Implement Ensemble Stacking Classifier**"
   ]
  },
  {
   "cell_type": "code",
   "execution_count": 18,
   "metadata": {
    "pycharm": {
     "name": "#%%\n"
    }
   },
   "outputs": [],
   "source": [
    "# Fit & Train model\n",
    "lr = LogisticRegression(solver='liblinear')  # defining meta-classifier\n",
    "clf_stack = StackingClassifier(classifiers =[dt_model, svm_model, b_model, nn_model], meta_classifier = lr, use_probas = True, cv = 5, use_features_in_secondary = True)\n",
    "model_stack = clf_stack.fit(x_train, y_train)"
   ]
  },
  {
   "cell_type": "markdown",
   "metadata": {},
   "source": [
    "- use_probas = True indicates the Stacking Classifier uses the prediction probabilities as an input instead of using predictions classes.\n",
    "- use_features_in_secondary = True indicates Stacking Classifier not only take predictions as an input but also uses features in the dataset to predict on new data."
   ]
  },
  {
   "cell_type": "code",
   "execution_count": 19,
   "metadata": {
    "pycharm": {
     "name": "#%%\n"
    }
   },
   "outputs": [],
   "source": [
    "# Train model\n",
    "model_stack = clf_stack.fit(x_train, y_train)   # training of stacked model\n",
    "pred_stack = model_stack.predict(x_test)       # predictions on test data using stacked model"
   ]
  },
  {
   "cell_type": "code",
   "execution_count": 20,
   "metadata": {
    "pycharm": {
     "name": "#%%\n"
    }
   },
   "outputs": [
    {
     "name": "stdout",
     "output_type": "stream",
     "text": [
      "Accuray score of Stacked model: 87.06766917293233\n"
     ]
    }
   ],
   "source": [
    "# Evaluate model\n",
    "acc_stack = accuracy_score(y_test, pred_stack)  # evaluating accuracy\n",
    "print('Accuray score of Stacked model:', acc_stack * 100)"
   ]
  },
  {
   "cell_type": "code",
   "execution_count": 32,
   "metadata": {},
   "outputs": [
    {
     "data": {
      "text/html": [
       "<div>\n",
       "<style scoped>\n",
       "    .dataframe tbody tr th:only-of-type {\n",
       "        vertical-align: middle;\n",
       "    }\n",
       "\n",
       "    .dataframe tbody tr th {\n",
       "        vertical-align: top;\n",
       "    }\n",
       "\n",
       "    .dataframe thead th {\n",
       "        text-align: right;\n",
       "    }\n",
       "</style>\n",
       "<table border=\"1\" class=\"dataframe\">\n",
       "  <thead>\n",
       "    <tr style=\"text-align: right;\">\n",
       "      <th></th>\n",
       "      <th>PctKids2Par</th>\n",
       "      <th>racePctWhite</th>\n",
       "      <th>PctKidsBornNeverMar</th>\n",
       "      <th>PctFam2Par</th>\n",
       "      <th>PctYoungKids2Par</th>\n",
       "      <th>PctTeen2Par</th>\n",
       "      <th>racepctblack</th>\n",
       "      <th>pctWInvInc</th>\n",
       "      <th>pctWPubAsst</th>\n",
       "      <th>PctPersOwnOccup</th>\n",
       "      <th>...</th>\n",
       "      <th>PctWorkMomYoungKids</th>\n",
       "      <th>PctEmplProfServ</th>\n",
       "      <th>PctSameCity85</th>\n",
       "      <th>PctVacMore6Mos</th>\n",
       "      <th>agePct16t24</th>\n",
       "      <th>MedOwnCostPctIncNoMtg</th>\n",
       "      <th>racePctAsian</th>\n",
       "      <th>pctUrban</th>\n",
       "      <th>agePct12t21</th>\n",
       "      <th>PctSameState85</th>\n",
       "    </tr>\n",
       "  </thead>\n",
       "  <tbody>\n",
       "    <tr>\n",
       "      <th>1466</th>\n",
       "      <td>0.491519</td>\n",
       "      <td>0.439814</td>\n",
       "      <td>0.436563</td>\n",
       "      <td>0.528671</td>\n",
       "      <td>0.638445</td>\n",
       "      <td>0.506093</td>\n",
       "      <td>0.213096</td>\n",
       "      <td>0.247747</td>\n",
       "      <td>0.242159</td>\n",
       "      <td>0.193494</td>\n",
       "      <td>...</td>\n",
       "      <td>0.645633</td>\n",
       "      <td>0.128751</td>\n",
       "      <td>0.747815</td>\n",
       "      <td>0.548918</td>\n",
       "      <td>0.184639</td>\n",
       "      <td>0.360902</td>\n",
       "      <td>0.122236</td>\n",
       "      <td>1.0000</td>\n",
       "      <td>0.213569</td>\n",
       "      <td>0.761741</td>\n",
       "    </tr>\n",
       "    <tr>\n",
       "      <th>1418</th>\n",
       "      <td>0.911551</td>\n",
       "      <td>0.969469</td>\n",
       "      <td>0.056673</td>\n",
       "      <td>0.898485</td>\n",
       "      <td>0.907996</td>\n",
       "      <td>0.926886</td>\n",
       "      <td>0.017586</td>\n",
       "      <td>0.590412</td>\n",
       "      <td>0.046819</td>\n",
       "      <td>0.728124</td>\n",
       "      <td>...</td>\n",
       "      <td>0.549803</td>\n",
       "      <td>0.199148</td>\n",
       "      <td>0.820367</td>\n",
       "      <td>0.224655</td>\n",
       "      <td>0.093252</td>\n",
       "      <td>0.097744</td>\n",
       "      <td>0.019502</td>\n",
       "      <td>0.7227</td>\n",
       "      <td>0.134283</td>\n",
       "      <td>0.884002</td>\n",
       "    </tr>\n",
       "    <tr>\n",
       "      <th>581</th>\n",
       "      <td>0.938880</td>\n",
       "      <td>0.970500</td>\n",
       "      <td>0.024132</td>\n",
       "      <td>0.954552</td>\n",
       "      <td>0.973494</td>\n",
       "      <td>0.888514</td>\n",
       "      <td>0.013137</td>\n",
       "      <td>0.757419</td>\n",
       "      <td>0.045027</td>\n",
       "      <td>0.958588</td>\n",
       "      <td>...</td>\n",
       "      <td>0.414634</td>\n",
       "      <td>0.324565</td>\n",
       "      <td>0.890152</td>\n",
       "      <td>0.382357</td>\n",
       "      <td>0.105799</td>\n",
       "      <td>0.323308</td>\n",
       "      <td>0.028731</td>\n",
       "      <td>1.0000</td>\n",
       "      <td>0.157367</td>\n",
       "      <td>0.875801</td>\n",
       "    </tr>\n",
       "    <tr>\n",
       "      <th>1517</th>\n",
       "      <td>0.812601</td>\n",
       "      <td>0.972047</td>\n",
       "      <td>0.074589</td>\n",
       "      <td>0.779272</td>\n",
       "      <td>0.865389</td>\n",
       "      <td>0.772362</td>\n",
       "      <td>0.011586</td>\n",
       "      <td>0.582843</td>\n",
       "      <td>0.090054</td>\n",
       "      <td>0.650102</td>\n",
       "      <td>...</td>\n",
       "      <td>0.574823</td>\n",
       "      <td>0.480178</td>\n",
       "      <td>0.548514</td>\n",
       "      <td>0.453993</td>\n",
       "      <td>0.418447</td>\n",
       "      <td>0.135338</td>\n",
       "      <td>0.024029</td>\n",
       "      <td>1.0000</td>\n",
       "      <td>0.432356</td>\n",
       "      <td>0.884151</td>\n",
       "    </tr>\n",
       "    <tr>\n",
       "      <th>1231</th>\n",
       "      <td>0.752154</td>\n",
       "      <td>0.968025</td>\n",
       "      <td>0.083729</td>\n",
       "      <td>0.744443</td>\n",
       "      <td>0.787185</td>\n",
       "      <td>0.746694</td>\n",
       "      <td>0.009103</td>\n",
       "      <td>0.491049</td>\n",
       "      <td>0.178539</td>\n",
       "      <td>0.672068</td>\n",
       "      <td>...</td>\n",
       "      <td>0.513454</td>\n",
       "      <td>0.262875</td>\n",
       "      <td>0.849650</td>\n",
       "      <td>0.385015</td>\n",
       "      <td>0.204137</td>\n",
       "      <td>0.278195</td>\n",
       "      <td>0.012885</td>\n",
       "      <td>1.0000</td>\n",
       "      <td>0.240666</td>\n",
       "      <td>0.897570</td>\n",
       "    </tr>\n",
       "    <tr>\n",
       "      <th>...</th>\n",
       "      <td>...</td>\n",
       "      <td>...</td>\n",
       "      <td>...</td>\n",
       "      <td>...</td>\n",
       "      <td>...</td>\n",
       "      <td>...</td>\n",
       "      <td>...</td>\n",
       "      <td>...</td>\n",
       "      <td>...</td>\n",
       "      <td>...</td>\n",
       "      <td>...</td>\n",
       "      <td>...</td>\n",
       "      <td>...</td>\n",
       "      <td>...</td>\n",
       "      <td>...</td>\n",
       "      <td>...</td>\n",
       "      <td>...</td>\n",
       "      <td>...</td>\n",
       "      <td>...</td>\n",
       "      <td>...</td>\n",
       "      <td>...</td>\n",
       "    </tr>\n",
       "    <tr>\n",
       "      <th>318</th>\n",
       "      <td>0.802369</td>\n",
       "      <td>0.980918</td>\n",
       "      <td>0.030347</td>\n",
       "      <td>0.783944</td>\n",
       "      <td>0.875246</td>\n",
       "      <td>0.770547</td>\n",
       "      <td>0.007448</td>\n",
       "      <td>0.589211</td>\n",
       "      <td>0.071237</td>\n",
       "      <td>0.696795</td>\n",
       "      <td>...</td>\n",
       "      <td>0.570102</td>\n",
       "      <td>0.329196</td>\n",
       "      <td>0.815705</td>\n",
       "      <td>0.176054</td>\n",
       "      <td>0.106307</td>\n",
       "      <td>0.120301</td>\n",
       "      <td>0.020895</td>\n",
       "      <td>1.0000</td>\n",
       "      <td>0.123244</td>\n",
       "      <td>0.874161</td>\n",
       "    </tr>\n",
       "    <tr>\n",
       "      <th>686</th>\n",
       "      <td>0.907647</td>\n",
       "      <td>0.992986</td>\n",
       "      <td>0.024863</td>\n",
       "      <td>0.905139</td>\n",
       "      <td>0.966594</td>\n",
       "      <td>0.787788</td>\n",
       "      <td>0.005172</td>\n",
       "      <td>0.457888</td>\n",
       "      <td>0.111335</td>\n",
       "      <td>0.942984</td>\n",
       "      <td>...</td>\n",
       "      <td>0.619355</td>\n",
       "      <td>0.254168</td>\n",
       "      <td>0.856935</td>\n",
       "      <td>0.578661</td>\n",
       "      <td>0.134791</td>\n",
       "      <td>0.263158</td>\n",
       "      <td>0.006617</td>\n",
       "      <td>0.4290</td>\n",
       "      <td>0.202730</td>\n",
       "      <td>0.961235</td>\n",
       "    </tr>\n",
       "    <tr>\n",
       "      <th>990</th>\n",
       "      <td>0.740845</td>\n",
       "      <td>0.805157</td>\n",
       "      <td>0.121389</td>\n",
       "      <td>0.737788</td>\n",
       "      <td>0.790909</td>\n",
       "      <td>0.766917</td>\n",
       "      <td>0.066515</td>\n",
       "      <td>0.791181</td>\n",
       "      <td>0.138889</td>\n",
       "      <td>0.504501</td>\n",
       "      <td>...</td>\n",
       "      <td>0.552950</td>\n",
       "      <td>0.281401</td>\n",
       "      <td>0.596008</td>\n",
       "      <td>0.501582</td>\n",
       "      <td>0.145643</td>\n",
       "      <td>0.097744</td>\n",
       "      <td>0.083406</td>\n",
       "      <td>0.9797</td>\n",
       "      <td>0.188278</td>\n",
       "      <td>0.628746</td>\n",
       "    </tr>\n",
       "    <tr>\n",
       "      <th>788</th>\n",
       "      <td>0.852046</td>\n",
       "      <td>0.918824</td>\n",
       "      <td>0.042779</td>\n",
       "      <td>0.832649</td>\n",
       "      <td>0.867470</td>\n",
       "      <td>0.795048</td>\n",
       "      <td>0.032068</td>\n",
       "      <td>0.516881</td>\n",
       "      <td>0.059812</td>\n",
       "      <td>0.700996</td>\n",
       "      <td>...</td>\n",
       "      <td>0.509677</td>\n",
       "      <td>0.386625</td>\n",
       "      <td>0.643794</td>\n",
       "      <td>0.462093</td>\n",
       "      <td>0.156833</td>\n",
       "      <td>0.150376</td>\n",
       "      <td>0.034651</td>\n",
       "      <td>0.9841</td>\n",
       "      <td>0.221397</td>\n",
       "      <td>0.768451</td>\n",
       "    </tr>\n",
       "    <tr>\n",
       "      <th>1650</th>\n",
       "      <td>0.741922</td>\n",
       "      <td>0.906034</td>\n",
       "      <td>0.027057</td>\n",
       "      <td>0.715560</td>\n",
       "      <td>0.915882</td>\n",
       "      <td>0.623412</td>\n",
       "      <td>0.010448</td>\n",
       "      <td>0.565661</td>\n",
       "      <td>0.045699</td>\n",
       "      <td>0.380987</td>\n",
       "      <td>...</td>\n",
       "      <td>0.529347</td>\n",
       "      <td>0.111523</td>\n",
       "      <td>0.767337</td>\n",
       "      <td>0.142640</td>\n",
       "      <td>0.112411</td>\n",
       "      <td>0.045113</td>\n",
       "      <td>0.086888</td>\n",
       "      <td>1.0000</td>\n",
       "      <td>0.112806</td>\n",
       "      <td>0.782466</td>\n",
       "    </tr>\n",
       "  </tbody>\n",
       "</table>\n",
       "<p>665 rows × 100 columns</p>\n",
       "</div>"
      ],
      "text/plain": [
       "      PctKids2Par  racePctWhite  PctKidsBornNeverMar  PctFam2Par  \\\n",
       "1466     0.491519      0.439814             0.436563    0.528671   \n",
       "1418     0.911551      0.969469             0.056673    0.898485   \n",
       "581      0.938880      0.970500             0.024132    0.954552   \n",
       "1517     0.812601      0.972047             0.074589    0.779272   \n",
       "1231     0.752154      0.968025             0.083729    0.744443   \n",
       "...           ...           ...                  ...         ...   \n",
       "318      0.802369      0.980918             0.030347    0.783944   \n",
       "686      0.907647      0.992986             0.024863    0.905139   \n",
       "990      0.740845      0.805157             0.121389    0.737788   \n",
       "788      0.852046      0.918824             0.042779    0.832649   \n",
       "1650     0.741922      0.906034             0.027057    0.715560   \n",
       "\n",
       "      PctYoungKids2Par  PctTeen2Par  racepctblack  pctWInvInc  pctWPubAsst  \\\n",
       "1466          0.638445     0.506093      0.213096    0.247747     0.242159   \n",
       "1418          0.907996     0.926886      0.017586    0.590412     0.046819   \n",
       "581           0.973494     0.888514      0.013137    0.757419     0.045027   \n",
       "1517          0.865389     0.772362      0.011586    0.582843     0.090054   \n",
       "1231          0.787185     0.746694      0.009103    0.491049     0.178539   \n",
       "...                ...          ...           ...         ...          ...   \n",
       "318           0.875246     0.770547      0.007448    0.589211     0.071237   \n",
       "686           0.966594     0.787788      0.005172    0.457888     0.111335   \n",
       "990           0.790909     0.766917      0.066515    0.791181     0.138889   \n",
       "788           0.867470     0.795048      0.032068    0.516881     0.059812   \n",
       "1650          0.915882     0.623412      0.010448    0.565661     0.045699   \n",
       "\n",
       "      PctPersOwnOccup  ...  PctWorkMomYoungKids  PctEmplProfServ  \\\n",
       "1466         0.193494  ...             0.645633         0.128751   \n",
       "1418         0.728124  ...             0.549803         0.199148   \n",
       "581          0.958588  ...             0.414634         0.324565   \n",
       "1517         0.650102  ...             0.574823         0.480178   \n",
       "1231         0.672068  ...             0.513454         0.262875   \n",
       "...               ...  ...                  ...              ...   \n",
       "318          0.696795  ...             0.570102         0.329196   \n",
       "686          0.942984  ...             0.619355         0.254168   \n",
       "990          0.504501  ...             0.552950         0.281401   \n",
       "788          0.700996  ...             0.509677         0.386625   \n",
       "1650         0.380987  ...             0.529347         0.111523   \n",
       "\n",
       "      PctSameCity85  PctVacMore6Mos  agePct16t24  MedOwnCostPctIncNoMtg  \\\n",
       "1466       0.747815        0.548918     0.184639               0.360902   \n",
       "1418       0.820367        0.224655     0.093252               0.097744   \n",
       "581        0.890152        0.382357     0.105799               0.323308   \n",
       "1517       0.548514        0.453993     0.418447               0.135338   \n",
       "1231       0.849650        0.385015     0.204137               0.278195   \n",
       "...             ...             ...          ...                    ...   \n",
       "318        0.815705        0.176054     0.106307               0.120301   \n",
       "686        0.856935        0.578661     0.134791               0.263158   \n",
       "990        0.596008        0.501582     0.145643               0.097744   \n",
       "788        0.643794        0.462093     0.156833               0.150376   \n",
       "1650       0.767337        0.142640     0.112411               0.045113   \n",
       "\n",
       "      racePctAsian  pctUrban  agePct12t21  PctSameState85  \n",
       "1466      0.122236    1.0000     0.213569        0.761741  \n",
       "1418      0.019502    0.7227     0.134283        0.884002  \n",
       "581       0.028731    1.0000     0.157367        0.875801  \n",
       "1517      0.024029    1.0000     0.432356        0.884151  \n",
       "1231      0.012885    1.0000     0.240666        0.897570  \n",
       "...            ...       ...          ...             ...  \n",
       "318       0.020895    1.0000     0.123244        0.874161  \n",
       "686       0.006617    0.4290     0.202730        0.961235  \n",
       "990       0.083406    0.9797     0.188278        0.628746  \n",
       "788       0.034651    0.9841     0.221397        0.768451  \n",
       "1650      0.086888    1.0000     0.112806        0.782466  \n",
       "\n",
       "[665 rows x 100 columns]"
      ]
     },
     "execution_count": 32,
     "metadata": {},
     "output_type": "execute_result"
    }
   ],
   "source": [
    "x_test"
   ]
  },
  {
   "cell_type": "code",
   "execution_count": 33,
   "metadata": {},
   "outputs": [
    {
     "name": "stdout",
     "output_type": "stream",
     "text": [
      "Accuracy is: 0.8721804511278195\n"
     ]
    }
   ],
   "source": [
    "from sklearn.ensemble import VotingClassifier\n",
    "\n",
    "voting_clf = VotingClassifier(estimators=[('SVC', svm_model), ('DTree', dt_model), ('Bayes', b_model), ('NN', nn_model)], voting='soft')\n",
    "voting_clf.fit(x_train, y_train)\n",
    "preds = voting_clf.predict(x_test)\n",
    "acc = accuracy_score(y_test, preds)\n",
    "\n",
    "print(\"Accuracy is: \" + str(acc))\n"
   ]
  },
  {
   "cell_type": "markdown",
   "metadata": {},
   "source": [
    "**Perform k-fold cross validation**"
   ]
  },
  {
   "cell_type": "code",
   "execution_count": 21,
   "metadata": {
    "pycharm": {
     "name": "#%%\n"
    },
    "scrolled": true
   },
   "outputs": [
    {
     "data": {
      "image/png": "[encoded data removed]",
      "text/plain": [
       "<Figure size 432x288 with 1 Axes>"
      ]
     },
     "metadata": {
      "needs_background": "light"
     },
     "output_type": "display_data"
    }
   ],
   "source": [
    "# Perform k-fold split on training data\n",
    "kf =KFold(n_splits=10, shuffle=True, random_state=42)\n",
    "kfold_scores = {}\n",
    "for i in range(2,12):\n",
    "    kf =KFold(n_splits=i, shuffle=True, random_state=42)\n",
    "    score = cross_val_score(model_stack, x_train, y_train, scoring='accuracy', cv=kf, n_jobs=-1)\n",
    "    res = {str(i): score.mean()}\n",
    "    kfold_scores.update(res)\n",
    "\n",
    "for key in kfold_scores:\n",
    "    plt.bar([key], kfold_scores[key], label=key, color=(0.2, 0.4, 0.6, 0.6))\n"
   ]
  },
  {
   "cell_type": "code",
   "execution_count": 22,
   "metadata": {},
   "outputs": [
    {
     "data": {
      "image/png": "[encoded data removed]",
      "text/plain": [
       "<Figure size 432x288 with 1 Axes>"
      ]
     },
     "metadata": {
      "needs_background": "light"
     },
     "output_type": "display_data"
    }
   ],
   "source": [
    "plt.title('K-Fold vs Train Data Accuracy')\n",
    "plt.xlabel('K')\n",
    "plt.ylabel('Accuracy')\n",
    "plt.ylim(0.83, 0.8875)\n",
    "plt.show()"
   ]
  },
  {
   "cell_type": "code",
   "execution_count": 12,
   "metadata": {
    "pycharm": {
     "name": "#%%\n"
    }
   },
   "outputs": [
    {
     "name": "stdout",
     "output_type": "stream",
     "text": [
      "Scores for each fold are: [0.84234234 0.85585586 0.83710407 0.84162896 0.85520362 0.8280543\n",
      " 0.86425339]\n",
      "Average score: 0.85\n",
      "Standard Deviation in score: 0.01\n"
     ]
    }
   ],
   "source": [
    "# Check k-fold split\n",
    "kf =KFold(n_splits=7, shuffle=True, random_state=42)\n",
    "score = cross_val_score(model_stack, x_train, y_train, scoring='accuracy', cv=kf, n_jobs=-1)\n",
    "print(f'Scores for each fold are: {score}')\n",
    "print(f'Average score: {\"{:.2f}\".format(score.mean())}')\n",
    "print(f'Standard Deviation in score: {\"{:.2f}\".format(score.std())}')\n",
    "\n",
    "# Good - most accurate and minimal variation\n",
    "\n"
   ]
  },
  {
   "cell_type": "code",
   "execution_count": 13,
   "metadata": {},
   "outputs": [
    {
     "name": "stderr",
     "output_type": "stream",
     "text": [
      "c:\\programdata\\anaconda3\\envs\\geospatial\\lib\\site-packages\\tensorflow\\python\\keras\\engine\\sequential.py:425: UserWarning: `model.predict_proba()` is deprecated and will be removed after 2021-01-01. Please use `model.predict()` instead.\n",
      "  warnings.warn('`model.predict_proba()` is deprecated and '\n",
      "c:\\programdata\\anaconda3\\envs\\geospatial\\lib\\site-packages\\tensorflow\\python\\keras\\engine\\sequential.py:425: UserWarning: `model.predict_proba()` is deprecated and will be removed after 2021-01-01. Please use `model.predict()` instead.\n",
      "  warnings.warn('`model.predict_proba()` is deprecated and '\n"
     ]
    },
    {
     "name": "stdout",
     "output_type": "stream",
     "text": [
      "Ensemble Train Model Accuracy(in %): 93.4151065203357\n",
      "Ensemble Test Model Accuracy(in %): 86.76691729323308\n"
     ]
    },
    {
     "data": {
      "image/png": "[encoded data removed]",
      "text/plain": [
       "<Figure size 432x288 with 2 Axes>"
      ]
     },
     "metadata": {
      "needs_background": "light"
     },
     "output_type": "display_data"
    },
    {
     "data": {
      "image/png": "[encoded data removed]",
      "text/plain": [
       "<Figure size 432x288 with 2 Axes>"
      ]
     },
     "metadata": {
      "needs_background": "light"
     },
     "output_type": "display_data"
    }
   ],
   "source": [
    "# Compare train &  test data\n",
    "y_train_pred = model_stack.predict(x_train)\n",
    "y_test_pred = model_stack.predict(x_test)\n",
    "\n",
    "print(f'Ensemble Train Model Accuracy(in %): {accuracy_score(y_train_pred,y_train)*100}')\n",
    "print(f'Ensemble Test Model Accuracy(in %): {accuracy_score(y_test_pred,y_test)*100}')\n",
    "plot_confusion_matrix(y_train_pred,y_train,dom='Train')\n",
    "plot_confusion_matrix(y_test_pred,y_test,dom='Test')"
   ]
  }
 ],
 "metadata": {
  "kernelspec": {
   "display_name": "Python 3",
   "language": "python",
   "name": "python3"
  },
  "language_info": {
   "codemirror_mode": {
    "name": "ipython",
    "version": 3
   },
   "file_extension": ".py",
   "mimetype": "text/x-python",
   "name": "python",
   "nbconvert_exporter": "python",
   "pygments_lexer": "ipython3",
   "version": "3.8.5"
  }
 },
 "nbformat": 4,
 "nbformat_minor": 1
}
